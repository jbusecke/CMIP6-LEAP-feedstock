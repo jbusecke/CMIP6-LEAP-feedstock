{
 "cells": [
  {
   "cell_type": "markdown",
   "id": "a1c85bed-06f2-450b-ad5e-3b3bb7f60e72",
   "metadata": {},
   "source": [
    "# Moving all the 'good' LEAP stores to the public bucket\n",
    "\n",
    "We should log these somewhere and then enable ingestion later (just like with the legacy stores)"
   ]
  },
  {
   "cell_type": "code",
   "execution_count": 1,
   "id": "db25f294-5be2-4d7c-a36b-4e24607793d3",
   "metadata": {},
   "outputs": [],
   "source": [
    "from leap_data_management_utils.cmip_utils import CMIPBQInterface, IIDEntry\n",
    "from leap_data_management_utils.cmip_testing import test_all\n",
    "\n",
    "import os\n",
    "import json \n",
    "import gcsfs\n",
    "import zarr\n",
    "from tqdm.auto import tqdm"
   ]
  },
  {
   "cell_type": "code",
   "execution_count": 2,
   "id": "455f79ca-af95-4c33-83e7-a96faa227ec9",
   "metadata": {},
   "outputs": [],
   "source": [
    "table_id = 'leap-pangeo.testcmip6.cmip6_feedstock_test2'\n",
    "bq = CMIPBQInterface(table_id)\n",
    "df_legacy = bq.get_latest()\n",
    "\n",
    "# log all moves in a separate bigquery table\n",
    "table_id = 'leap-pangeo.cmip6_pgf_ingestion.leap_legacy'\n",
    "bq_legacy = CMIPBQInterface(table_id)"
   ]
  },
  {
   "cell_type": "code",
   "execution_count": 3,
   "id": "a17d8c5e-9be6-40a5-93b8-ec39991931bb",
   "metadata": {},
   "outputs": [],
   "source": [
    "# test that I can actually copy things from in here (cant, need to authenticate):\n",
    "# This might disspear (its in some 1Password secured folder) \n",
    "# TODO refactor this to the hub?\n",
    "key_file = '/private/var/folders/m2/vwrjf3zx1bvdbhfkw7bxpz7r0000gn/T/com.agilebits.onepassword7/com.agilebits.Attachments.noindex/ipigjxgmqrevlaplfwomu4sva4/leap-pangeo-93546a72d2da.json'\n",
    "\n",
    "with open(key_file) as f:\n",
    "    token = json.load(f)\n",
    "    fs = gcsfs.GCSFileSystem(token=token)"
   ]
  },
  {
   "cell_type": "code",
   "execution_count": null,
   "id": "517e6e90-2bf7-4a1a-9f69-0e884d6f9b18",
   "metadata": {},
   "outputs": [
    {
     "data": {
      "application/vnd.jupyter.widget-view+json": {
       "model_id": "272995fb7c93452a9854cc197f0af18a",
       "version_major": 2,
       "version_minor": 0
      },
      "text/plain": [
       "  0%|          | 0/3411 [00:00<?, ?it/s]"
      ]
     },
     "metadata": {},
     "output_type": "display_data"
    },
    {
     "name": "stdout",
     "output_type": "stream",
     "text": [
      "Testing iid='CMIP6.CMIP.CSIRO.ACCESS-ESM1-5.historical.r38i1p1f1.Omon.o2.gn.v20210525'\n",
      "Test PASSED ✅\n",
      "Testing iid='CMIP6.CMIP.CSIRO.ACCESS-ESM1-5.historical.r39i1p1f1.Omon.spco2.gn.v20210525'\n",
      "Test PASSED ✅\n",
      "Testing iid='CMIP6.CMIP.EC-Earth-Consortium.EC-Earth3.historical.r142i1p1f1.day.pr.gr.v20200412'\n",
      "Test PASSED ✅\n",
      "Testing iid='CMIP6.CMIP.EC-Earth-Consortium.EC-Earth3.historical.r5i1p1f1.day.sfcWind.gr.v20201001'\n",
      "Test PASSED ✅\n",
      "Testing iid='CMIP6.CMIP.IPSL.IPSL-CM6A-LR.historical.r33i1p1f1.Omon.spco2.gn.v20211229'\n",
      "Test PASSED ✅\n",
      "Testing iid='CMIP6.CMIP.MOHC.HadGEM3-GC31-LL.historical.r25i1p1f3.day.psl.gn.v20230630'\n",
      "Test PASSED ✅\n",
      "Testing iid='CMIP6.CMIP.MOHC.HadGEM3-GC31-LL.historical.r33i1p1f3.Omon.mlotst.gn.v20230627'\n",
      "Test PASSED ✅\n",
      "Testing iid='CMIP6.CMIP.MOHC.UKESM1-0-LL.historical.r8i1p1f2.SImon.sifb.gn.v20200310'\n",
      "Test PASSED ✅\n",
      "Testing iid='CMIP6.CMIP.MPI-M.ICON-ESM-LR.historical.r5i1p1f1.Omon.sos.gn.v20210215'\n",
      "Test PASSED ✅\n",
      "Testing iid='CMIP6.CMIP.MPI-M.MPI-ESM1-2-LR.historical.r15i1p1f1.Omon.spco2.gn.v20210901'\n",
      "Test PASSED ✅\n",
      "Testing iid='CMIP6.CMIP.MRI.MRI-ESM2-0.historical.r9i1p1f1.SImon.siitdthick.gn.v20210909'\n",
      "Test PASSED ✅\n",
      "Testing iid='CMIP6.ScenarioMIP.CSIRO.ACCESS-ESM1-5.ssp245.r19i1p1f1.Omon.sos.gn.v20200922'\n",
      "Test PASSED ✅\n",
      "Testing iid='CMIP6.ScenarioMIP.CSIRO.ACCESS-ESM1-5.ssp245.r27i1p1f1.day.sfcWind.gn.v20200922'\n",
      "Test PASSED ✅\n",
      "Testing iid='CMIP6.ScenarioMIP.CSIRO.ACCESS-ESM1-5.ssp245.r33i1p1f1.Omon.o2.gn.v20210712'\n",
      "Test PASSED ✅\n",
      "Testing iid='CMIP6.ScenarioMIP.CSIRO.ACCESS-ESM1-5.ssp245.r38i1p1f1.Omon.mlotst.gn.v20210712'\n",
      "Test PASSED ✅\n",
      "Testing iid='CMIP6.ScenarioMIP.CSIRO.ACCESS-ESM1-5.ssp245.r38i1p1f1.day.pr.gn.v20210712'\n",
      "Test PASSED ✅\n",
      "Testing iid='CMIP6.ScenarioMIP.CSIRO.ACCESS-ESM1-5.ssp585.r29i1p1f1.day.psl.gn.v20210831'\n",
      "Test PASSED ✅\n",
      "Testing iid='CMIP6.ScenarioMIP.CSIRO.ACCESS-ESM1-5.ssp585.r34i1p1f1.day.pr.gn.v20210831'\n",
      "Test PASSED ✅\n",
      "Testing iid='CMIP6.ScenarioMIP.EC-Earth-Consortium.EC-Earth3-Veg.ssp245.r12i1p1f1.day.psl.gr.v20200925'\n",
      "Test PASSED ✅\n",
      "Testing iid='CMIP6.ScenarioMIP.EC-Earth-Consortium.EC-Earth3.ssp245.r101i1p1f1.Omon.mlotst.gn.v20210401'\n",
      "Test PASSED ✅\n"
     ]
    }
   ],
   "source": [
    "for idx, row in tqdm(df_legacy.iterrows(), total=len(df_legacy)):\n",
    "    iid = row.instance_id\n",
    "    source = 'gs://' + row.store\n",
    "    target_prefix = 'gs://cmip6/CMIP6_LEAP_legacy'\n",
    "    target = os.path.join(target_prefix, *source.split('/')[-2:])\n",
    "    # check if iid is already in the target bq\n",
    "    if not bq_legacy.iid_exists(iid):\n",
    "        print(f\"Testing {iid=}\")\n",
    "        try:\n",
    "            test_all(store=zarr.storage.FSStore(source, fs=fs), iid=iid, verbose=False)\n",
    "            tests_passed = True\n",
    "            print(\"Test PASSED ✅\")\n",
    "        except: \n",
    "            tests_passed = False\n",
    "            print(\"Test FAILED ❌\")\n",
    "        iid_entry = IIDEntry(iid=iid, store=target, retracted=False, tests_passed=tests_passed)\n",
    "        # print(f\"Copy {iid=} \\nfrom \\n{source=} \\nto \\n{target=}\")\n",
    "        fs.cp(source, target, recursive=True)\n",
    "        bq_legacy.insert_iid(iid_entry)"
   ]
  },
  {
   "cell_type": "code",
   "execution_count": null,
   "id": "020585ae-1b0d-47e5-8ca9-28ad1c37f97a",
   "metadata": {},
   "outputs": [],
   "source": []
  },
  {
   "cell_type": "code",
   "execution_count": null,
   "id": "731b9ca7-31d4-46a8-bc60-9c821e23f119",
   "metadata": {},
   "outputs": [],
   "source": []
  }
 ],
 "metadata": {
  "kernelspec": {
   "display_name": "Python 3 (ipykernel)",
   "language": "python",
   "name": "python3"
  },
  "language_info": {
   "codemirror_mode": {
    "name": "ipython",
    "version": 3
   },
   "file_extension": ".py",
   "mimetype": "text/x-python",
   "name": "python",
   "nbconvert_exporter": "python",
   "pygments_lexer": "ipython3",
   "version": "3.10.13"
  }
 },
 "nbformat": 4,
 "nbformat_minor": 5
}
